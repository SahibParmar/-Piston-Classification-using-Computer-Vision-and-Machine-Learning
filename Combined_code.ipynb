{
  "nbformat": 4,
  "nbformat_minor": 0,
  "metadata": {
    "colab": {
      "provenance": []
    },
    "kernelspec": {
      "name": "python3",
      "display_name": "Python 3"
    },
    "language_info": {
      "name": "python"
    }
  },
  "cells": [
    {
      "cell_type": "code",
      "execution_count": null,
      "metadata": {
        "colab": {
          "base_uri": "https://localhost:8080/"
        },
        "id": "Jqt37sNcT8qY",
        "outputId": "18e849cc-358f-487d-d1a5-ce075edaccf3"
      },
      "outputs": [
        {
          "output_type": "stream",
          "name": "stdout",
          "text": [
            "Mounted at /content/drive\n",
            "Failed to open the image.\n",
            "Failed to open the image.\n",
            "Failed to open the image.\n",
            "Failed to open the image.\n",
            "Failed to open the image.\n",
            "Failed to open the image.\n",
            "Failed to open the image.\n",
            "Failed to open the image.\n",
            "Failed to open the image.\n",
            "Failed to open the image.\n",
            "Failed to open the image.\n",
            "Failed to open the image.\n",
            "Failed to open the image.\n",
            "Failed to open the image.\n",
            "Failed to open the image.\n",
            "Failed to open the image.\n",
            "Failed to open the image.\n",
            "Failed to open the image.\n",
            "Failed to open the image.\n",
            "Failed to open the image.\n",
            "Failed to open the image.\n",
            "Failed to open the image.\n",
            "Failed to open the image.\n",
            "Failed to open the image.\n",
            "Failed to open the image.\n",
            "Failed to open the image.\n",
            "Failed to open the image.\n",
            "Failed to open the image.\n"
          ]
        }
      ],
      "source": [
        "from matplotlib import pyplot as plt\n",
        "import pandas as pd\n",
        "import cv2\n",
        "import numpy as np\n",
        "import math\n",
        "from sklearn.model_selection import train_test_split\n",
        "import tensorflow as tf\n",
        "from tensorflow.keras import datasets, layers, models\n",
        "from tensorflow import keras\n",
        "from tensorflow.keras.models import Sequential\n",
        "tf.config.run_functions_eagerly(True)\n",
        "from google.colab import drive\n",
        "drive.mount('/content/drive')\n",
        "\n",
        "\n",
        "\n",
        "X_color_normal=[];X_color_defect=[]\n",
        "X_bw_normal=[];X_bw_defect=[]\n",
        "\n",
        "y_color_normal=[];y_bw_normal=[]\n",
        "y_color_defect=[];y_bw_defect=[]\n",
        "\n",
        "for i in range(1,59):\n",
        "  image = cv2.imread(f'/content/drive/MyDrive/SE_innovative/Colored_model/Normal/normal_b_{i:0{3}}.jpg')\n",
        "  if image is not None:\n",
        "      gray_image = cv2.resize(image, (107, 108))  #average size of all images\n",
        "      X_color_normal.append(gray_image)\n",
        "      y_color_normal.append([0])\n",
        "  else:\n",
        "      print('Failed to open the image.')\n",
        "\n",
        "\n",
        "nums=[10,13,27,31]\n",
        "for i in nums:\n",
        "  image = cv2.imread(f'/content/drive/MyDrive/SE_innovative/Colored_model/Normal/normal_c_{i:0{3}}.jpg')\n",
        "  if image is not None:\n",
        "      gray_image = cv2.resize(image, (107, 108))  #average size of all images\n",
        "      X_color_normal.append(gray_image)\n",
        "      y_color_normal.append([0])\n",
        "  else:\n",
        "      print('Failed to open the image.')\n",
        "\n",
        "\n",
        "\n",
        "\n",
        "for i in range(1,100):\n",
        "  image = cv2.imread(f'/content/drive/MyDrive/SE_innovative/Colored_model/Normal/normal_a_{i:0{3}}.jpeg')\n",
        "  if image is not None:\n",
        "      gray_image = cv2.resize(image, (107, 108))  #average size of all images\n",
        "      X_bw_normal.append(gray_image)\n",
        "      y_bw_normal.append([0])\n",
        "  else:\n",
        "      print('Failed to open the image.')\n",
        "\n",
        "\n",
        "for i in range(1,39):\n",
        "  image = cv2.imread(f'/content/drive/MyDrive/SE_innovative/Colored_model/Defected/defect_c_{i:0{3}}.jpg')\n",
        "  if image is not None:\n",
        "      gray_image = cv2.resize(image, (107, 108))  #average size of all images\n",
        "      X_color_defect.append(gray_image)\n",
        "      y_color_defect.append([1])\n",
        "  else:\n",
        "      print('Failed to open the image.')\n",
        "\n",
        "\n",
        "\n",
        "\n",
        "for i in range(1,99):\n",
        "  image = cv2.imread(f'/content/drive/MyDrive/SE_innovative/Defected/defect_b_{i:0{3}}.jpeg')\n",
        "  if image is not None:\n",
        "      gray_image = cv2.resize(image, (107, 108))  #average size of all images\n",
        "      X_bw_defect.append(gray_image)\n",
        "      y_bw_defect.append([1])\n",
        "  else:\n",
        "      print('Failed to open the image.')\n",
        "\n",
        "\n",
        "\n",
        "\n",
        "\n",
        "\n",
        "y_color_normal=np.array(y_color_normal)\n",
        "y_bw_normal=np.array(y_bw_normal)\n",
        "y_color_defect=np.array(y_color_defect)\n",
        "y_bw_defect=np.array(y_bw_defect)\n",
        "\n",
        "X_color_normal=np.array(X_color_normal)\n",
        "X_bw_normal=np.array(X_bw_normal)\n",
        "X_color_defect=np.array(X_color_defect)\n",
        "X_bw_defect=np.array(X_bw_defect)\n",
        "\n",
        "data_augmentation=keras.Sequential([\n",
        "    layers.experimental.preprocessing.RandomFlip(\"horizontal\",input_shape=(108,107)),\n",
        "    layers.experimental.preprocessing.RandomZoom(0.1),\n",
        "    layers.experimental.preprocessing.RandomRotation(0.7)\n",
        "])\n",
        "\n",
        "X_color_normal1=data_augmentation(X_color_normal).numpy()\n",
        "X_color_defect1=data_augmentation(X_color_defect).numpy()\n",
        "\n",
        "X_color_normal2=data_augmentation(X_color_normal).numpy()\n",
        "X_color_defect2=data_augmentation(X_color_defect).numpy()\n",
        "\n",
        "X_color_normal3=data_augmentation(X_color_normal).numpy()\n",
        "X_color_defect3=data_augmentation(X_color_defect).numpy()\n",
        "\n",
        "X_color_normal4=data_augmentation(X_color_normal).numpy()\n",
        "X_color_defect4=data_augmentation(X_color_defect).numpy()\n",
        "\n",
        "\n",
        "X_normal=[];y_normal=[]\n",
        "for i in X_color_normal1:\n",
        "  X_normal.append(i);y_normal.append([0])\n",
        "for i in X_color_normal2:\n",
        "  X_normal.append(i);y_normal.append([0])\n",
        "for i in X_color_normal3:\n",
        "  X_normal.append(i);y_normal.append([0])\n",
        "for i in X_color_normal4:\n",
        "  X_normal.append(i);y_normal.append([0])\n",
        "for i in X_bw_normal:\n",
        "  X_normal.append(i);y_normal.append([0])\n",
        "\n",
        "\n",
        "\n",
        "X_defect=[];y_defect=[]\n",
        "for i in X_color_defect1:\n",
        "  X_defect.append(i);y_defect.append([1])\n",
        "for i in X_color_defect2:\n",
        "  X_defect.append(i);y_defect.append([1])\n",
        "for i in X_color_defect3:\n",
        "  X_defect.append(i);y_defect.append([1])\n",
        "for i in X_color_defect4:\n",
        "  X_defect.append(i);y_defect.append([1])\n",
        "for i in X_bw_defect:\n",
        "  X_defect.append(i);y_defect.append([1])\n",
        "\n",
        "\n",
        "X=[];y=[]\n",
        "for i in X_normal:\n",
        "  X.append(i);y.append([0])\n",
        "for i in X_defect:\n",
        "  X.append(i);y.append([1])\n",
        "X=np.array(X)\n",
        "y=np.array(y)\n",
        "\n",
        "X_new=[];y_new=[]\n",
        "for i in range(len(X)):\n",
        "  img_normalized=X[i].astype(float) / 255.0\n",
        "  X_new.append(img_normalized)\n",
        "  y_new.append(y[i])\n",
        "X_new=np.array(X_new)\n",
        "y_new=np.array(y_new)"
      ]
    },
    {
      "cell_type": "code",
      "source": [
        "\n",
        "\n",
        "X_train, X_test, y_train, y_test = train_test_split(X_new, y_new, test_size=0.2, random_state=42)"
      ],
      "metadata": {
        "id": "W7ly6i3GUaM_"
      },
      "execution_count": null,
      "outputs": []
    },
    {
      "cell_type": "code",
      "source": [
        "cnn_colored = models.Sequential([\n",
        "    layers.Conv2D(filters=10, kernel_size=(10, 10), activation='relu', input_shape=(108, 107,3)),\n",
        "    layers.MaxPooling2D((2, 2)),\n",
        "\n",
        "    layers.Flatten(),\n",
        "    layers.Dense(500, activation='sigmoid'),\n",
        "    # layers.Dense(500, activation='relu'),\n",
        "    # layers.Dense(400, activation='sigmoid'),\n",
        "    # layers.Dense(300, activation='relu'),\n",
        "    # layers.Dense(200, activation='sigmoid'),\n",
        "    # layers.Dense(100, activation='relu'),\n",
        "    layers.Dense(50, activation='sigmoid'),\n",
        "    layers.Dense(10, activation='sigmoid'),\n",
        "    layers.Dense(2, activation='softmax')\n",
        "])\n",
        "\n",
        "cnn_colored.compile(optimizer='adam',\n",
        "              loss='sparse_categorical_crossentropy',\n",
        "              metrics=['accuracy'])"
      ],
      "metadata": {
        "id": "tPZSnIKBUaz0"
      },
      "execution_count": null,
      "outputs": []
    },
    {
      "cell_type": "code",
      "source": [
        "# cnn_colored.fit(X_train,y_train,epochs=100)\n",
        "batch_size = 32\n",
        "epochs = 2\n",
        "hist=cnn_colored.fit(X_train, y_train, batch_size=batch_size, epochs=epochs, validation_data=(X_test, y_test))"
      ],
      "metadata": {
        "colab": {
          "base_uri": "https://localhost:8080/"
        },
        "id": "hOCMbx2lUgTy",
        "outputId": "0eb8bd89-3f0b-48d9-8ec2-c2417ee1b996"
      },
      "execution_count": null,
      "outputs": [
        {
          "output_type": "stream",
          "name": "stdout",
          "text": [
            "Epoch 1/2\n",
            "13/13 [==============================] - 17s 1s/step - loss: 0.1976 - accuracy: 0.9536 - val_loss: 0.4821 - val_accuracy: 0.8041\n",
            "Epoch 2/2\n",
            "13/13 [==============================] - 17s 1s/step - loss: 0.1461 - accuracy: 0.9794 - val_loss: 0.4199 - val_accuracy: 0.8041\n"
          ]
        }
      ]
    },
    {
      "cell_type": "code",
      "source": [
        "from sklearn.metrics import confusion_matrix , classification_report\n",
        "\n",
        "cnn_pred=cnn_colored.predict(X_test)\n",
        "\n",
        "temp2=[]\n",
        "for i in cnn_pred:\n",
        "  temp2.append(np.argmax(i))\n",
        "temp2=np.array(temp2)\n",
        "print(classification_report(y_test,temp2))\n",
        "\n",
        "\n"
      ],
      "metadata": {
        "colab": {
          "base_uri": "https://localhost:8080/"
        },
        "id": "lAWlNEedUlfu",
        "outputId": "d51cacf1-7fad-496a-fb88-109092449f87"
      },
      "execution_count": null,
      "outputs": [
        {
          "output_type": "stream",
          "name": "stdout",
          "text": [
            "4/4 [==============================] - 1s 168ms/step\n",
            "              precision    recall  f1-score   support\n",
            "\n",
            "           0       0.86      0.98      0.92        51\n",
            "           1       0.97      0.83      0.89        46\n",
            "\n",
            "    accuracy                           0.91        97\n",
            "   macro avg       0.92      0.90      0.91        97\n",
            "weighted avg       0.92      0.91      0.91        97\n",
            "\n"
          ]
        }
      ]
    },
    {
      "cell_type": "code",
      "source": [
        "import pickle\n",
        "\n",
        "with open('/content/drive/MyDrive/SE_innovative/Colored_model/Colored_cnn_model_4.0(Accuracy 0.91).pkl','wb') as f:\n",
        "  pickle.dump(cnn_colored,f)"
      ],
      "metadata": {
        "id": "7QwVh_JZUrKR"
      },
      "execution_count": null,
      "outputs": []
    },
    {
      "cell_type": "code",
      "source": [
        "import cv2\n",
        "from google.colab.patches import cv2_imshow\n",
        "\n",
        "image1 = cv2.imread(f'/content/drive/MyDrive/SE_innovative/test1.jpeg')\n",
        "image1 = cv2.resize(image1, (107, 108))\n",
        "\n",
        "image2 = cv2.imread(f'/content/drive/MyDrive/SE_innovative/test2.jpeg')\n",
        "image2 = cv2.resize(image2, (107, 108))\n",
        "\n",
        "image3 = cv2.imread(f'/content/drive/MyDrive/SE_innovative/test3.jpeg')\n",
        "image3 = cv2.resize(image3, (107, 108))\n",
        "\n",
        "\n",
        "cv2_imshow(image1)\n",
        "cv2.waitKey(0)\n",
        "cv2.destroyAllWindows()\n"
      ],
      "metadata": {
        "colab": {
          "base_uri": "https://localhost:8080/",
          "height": 125
        },
        "id": "l2jHm_0Sn5Pi",
        "outputId": "7a22c20f-097b-43ca-f1a3-45c7a894861a"
      },
      "execution_count": null,
      "outputs": [
        {
          "output_type": "display_data",
          "data": {
            "text/plain": [
              "<PIL.Image.Image image mode=RGB size=107x108>"
            ],
            "image/png": "[encoded data removed]"
          },
          "metadata": {}
        }
      ]
    },
    {
      "cell_type": "code",
      "source": [
        "cv2_imshow(image2)\n",
        "cv2.waitKey(0)\n",
        "cv2.destroyAllWindows()"
      ],
      "metadata": {
        "colab": {
          "base_uri": "https://localhost:8080/",
          "height": 125
        },
        "id": "rLl60-5DqZlB",
        "outputId": "5e9a4db6-6891-4dbe-d2c0-df1fb6a782da"
      },
      "execution_count": null,
      "outputs": [
        {
          "output_type": "display_data",
          "data": {
            "text/plain": [
              "<PIL.Image.Image image mode=RGB size=107x108>"
            ],
            "image/png": "[encoded data removed]"
          },
          "metadata": {}
        }
      ]
    },
    {
      "cell_type": "code",
      "source": [
        "cv2_imshow(image3)\n",
        "cv2.waitKey(0)\n",
        "cv2.destroyAllWindows()"
      ],
      "metadata": {
        "colab": {
          "base_uri": "https://localhost:8080/",
          "height": 125
        },
        "id": "WIhlQkGLqeMb",
        "outputId": "18491542-d262-422d-ef0f-8b30dbe62cda"
      },
      "execution_count": null,
      "outputs": [
        {
          "output_type": "display_data",
          "data": {
            "text/plain": [
              "<PIL.Image.Image image mode=RGB size=107x108>"
            ],
            "image/png": "[encoded data removed]"
          },
          "metadata": {}
        }
      ]
    },
    {
      "cell_type": "code",
      "source": [
        "image1 = np.expand_dims(image1, axis=0)\n",
        "image2 = np.expand_dims(image2, axis=0)\n",
        "image3 = np.expand_dims(image3, axis=0)"
      ],
      "metadata": {
        "id": "TvWtssU7pU2r"
      },
      "execution_count": null,
      "outputs": []
    },
    {
      "cell_type": "code",
      "source": [
        "cnn_colored.predict(image1)\n",
        "# resized_image.shape"
      ],
      "metadata": {
        "colab": {
          "base_uri": "https://localhost:8080/"
        },
        "id": "i075nZ6EofMv",
        "outputId": "4ac009c8-f385-49b2-b5dc-2ec5ebc9337d"
      },
      "execution_count": null,
      "outputs": [
        {
          "output_type": "stream",
          "name": "stdout",
          "text": [
            "1/1 [==============================] - 0s 56ms/step\n"
          ]
        },
        {
          "output_type": "execute_result",
          "data": {
            "text/plain": [
              "array([[0.22862022, 0.7713797 ]], dtype=float32)"
            ]
          },
          "metadata": {},
          "execution_count": 23
        }
      ]
    },
    {
      "cell_type": "code",
      "source": [
        "cnn_colored.predict(image2)"
      ],
      "metadata": {
        "colab": {
          "base_uri": "https://localhost:8080/"
        },
        "id": "iR78AcnAqoO7",
        "outputId": "06681b5d-4c79-4c81-9b0f-d65ffd146c80"
      },
      "execution_count": null,
      "outputs": [
        {
          "output_type": "stream",
          "name": "stdout",
          "text": [
            "1/1 [==============================] - 0s 35ms/step\n"
          ]
        },
        {
          "output_type": "stream",
          "name": "stderr",
          "text": [
            "/usr/local/lib/python3.10/dist-packages/tensorflow/python/data/ops/structured_function.py:258: UserWarning: Even though the `tf.config.experimental_run_functions_eagerly` option is set, this option does not apply to tf.data functions. To force eager execution of tf.data functions, please use `tf.data.experimental.enable_debug_mode()`.\n",
            "  warnings.warn(\n"
          ]
        },
        {
          "output_type": "execute_result",
          "data": {
            "text/plain": [
              "array([[0.9154195 , 0.08458051]], dtype=float32)"
            ]
          },
          "metadata": {},
          "execution_count": 22
        }
      ]
    },
    {
      "cell_type": "code",
      "source": [
        "cnn_colored.predict(image3)"
      ],
      "metadata": {
        "colab": {
          "base_uri": "https://localhost:8080/"
        },
        "id": "eNn0HYQvqtNk",
        "outputId": "05b0f8d2-bd67-4c07-b84b-178b66c95257"
      },
      "execution_count": null,
      "outputs": [
        {
          "output_type": "stream",
          "name": "stdout",
          "text": [
            "1/1 [==============================] - 0s 36ms/step\n"
          ]
        },
        {
          "output_type": "execute_result",
          "data": {
            "text/plain": [
              "array([[0.9072962, 0.0927038]], dtype=float32)"
            ]
          },
          "metadata": {},
          "execution_count": 24
        }
      ]
    }
  ]
}